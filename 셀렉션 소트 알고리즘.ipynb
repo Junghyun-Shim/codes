{
 "cells": [
  {
   "cell_type": "markdown",
   "metadata": {},
   "source": [
    "### 1부터 500 까지의 랜덤 정수를 50개 생성하여 리스트로 만듭니다. \n",
    "### 셀렉션 소트를 이용해, 리스트를 정렬하세요. "
   ]
  },
  {
   "cell_type": "code",
   "execution_count": 1,
   "metadata": {},
   "outputs": [],
   "source": [
    "import random"
   ]
  },
  {
   "cell_type": "code",
   "execution_count": 35,
   "metadata": {},
   "outputs": [
    {
     "name": "stdout",
     "output_type": "stream",
     "text": [
      "[113, 66, 160, 27, 338, 380, 262, 81, 481, 167, 455, 286, 299, 61, 230, 339, 499, 144, 298, 209, 438, 229, 118, 194, 221, 246, 364, 90, 486, 103, 128, 139, 38, 452, 363, 251, 319, 130, 55, 67, 375, 264, 108, 261, 97, 98, 85, 124, 232]\n"
     ]
    }
   ],
   "source": [
    "a = random.randint(1,500)\n",
    "b =[]\n",
    "for i in range(50):\n",
    "    a = random.randint(1,500)\n",
    "    if a not in b:\n",
    "        b.append(a)\n",
    "print(b)"
   ]
  },
  {
   "cell_type": "code",
   "execution_count": 36,
   "metadata": {},
   "outputs": [],
   "source": [
    "# b=[3,5,2,1,4]"
   ]
  },
  {
   "cell_type": "code",
   "execution_count": 37,
   "metadata": {},
   "outputs": [
    {
     "name": "stdout",
     "output_type": "stream",
     "text": [
      "[27, 38, 55, 61, 66, 67, 81, 85, 90, 97, 98, 103, 108, 113, 113, 118, 124, 128, 130, 139, 144, 160, 167, 194, 194, 209, 221, 229, 230, 232, 246, 251, 261, 262, 264, 286, 298, 319, 338, 363, 364, 375, 380, 438, 452, 455, 455, 481, 499]\n"
     ]
    }
   ],
   "source": [
    "for i in range(len(b)):\n",
    "    if i == len(b):\n",
    "        break\n",
    "    min = b[i]    \n",
    "    for j in range(i+1, len(b)):\n",
    "        if min > b[j]:\n",
    "            min = b[j]\n",
    "            min_count = j\n",
    "    b[min_count] = b[i]\n",
    "    b[i] = min\n",
    "print(b)"
   ]
  },
  {
   "cell_type": "code",
   "execution_count": null,
   "metadata": {},
   "outputs": [],
   "source": []
  }
 ],
 "metadata": {
  "kernelspec": {
   "display_name": "Python 3",
   "language": "python",
   "name": "python3"
  },
  "language_info": {
   "codemirror_mode": {
    "name": "ipython",
    "version": 3
   },
   "file_extension": ".py",
   "mimetype": "text/x-python",
   "name": "python",
   "nbconvert_exporter": "python",
   "pygments_lexer": "ipython3",
   "version": "3.7.4"
  }
 },
 "nbformat": 4,
 "nbformat_minor": 2
}
