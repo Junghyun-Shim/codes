{
 "cells": [
  {
   "cell_type": "code",
   "execution_count": null,
   "metadata": {},
   "outputs": [],
   "source": [
    "# 타이핑 게임\n",
    "\n",
    "import random\n",
    "import time\n",
    "import winsound\n",
    "\n",
    "words = []\n",
    "\n",
    "n=1\n",
    "cor_cnt = 0\n",
    "\n",
    "with open('./resource/word.txt', 'r') as f:\n",
    "    for c in f:\n",
    "        words.append(c.strip())\n",
    "        \n",
    "input(\"ready? press Enter key!\")\n",
    "\n",
    "start = time.time()\n",
    "\n",
    "while n <= 5:\n",
    "    random.shuffle(words)\n",
    "    q = random.choice(words)\n",
    "    \n",
    "    print(\"*Q #{}\".format(n))\n",
    "    print(q)\n",
    "    \n",
    "    x = input()\n",
    "    if str(q).strip() == str(x).strip():\n",
    "        \n",
    "#         winsound.PlaySound('./sound/good.wav', winsound.SND_FILENAME)\n",
    "        print(\"Pass!\")\n",
    "        cor_cnt+= 1\n",
    "        \n",
    "    else:\n",
    "#         winsound.PlaySound('./sound/bad.wav', winsound.SND_FILENAME)\n",
    "        print(\"Wrong!\")\n",
    "    n += 1\n",
    "end = time.time()\n",
    "et = end - start\n",
    "\n",
    "et = format(et, \".2f\")\n",
    "\n",
    "print()\n",
    "print(\"----------\")\n",
    "\n",
    "if cor_cnt >= 3:\n",
    "    print(\"결과 : 합격\")\n",
    "else:\n",
    "    print(\"불합격\")\n",
    "    \n",
    "print(\"게임시간 :\", et, \"초\", \"정답개수 : {}\".format(cor_cnt))"
   ]
  }
 ],
 "metadata": {
  "kernelspec": {
   "display_name": "Python 3",
   "language": "python",
   "name": "python3"
  },
  "language_info": {
   "codemirror_mode": {
    "name": "ipython",
    "version": 3
   },
   "file_extension": ".py",
   "mimetype": "text/x-python",
   "name": "python",
   "nbconvert_exporter": "python",
   "pygments_lexer": "ipython3",
   "version": "3.7.4"
  }
 },
 "nbformat": 4,
 "nbformat_minor": 2
}
